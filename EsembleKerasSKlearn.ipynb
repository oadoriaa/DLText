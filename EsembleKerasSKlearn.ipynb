{
 "cells": [
  {
   "cell_type": "code",
   "execution_count": 1,
   "metadata": {},
   "outputs": [],
   "source": [
    "%matplotlib inline"
   ]
  },
  {
   "cell_type": "code",
   "execution_count": 2,
   "metadata": {},
   "outputs": [],
   "source": [
    "def get_model_results(history):\n",
    "    from matplotlib import pyplot as plt\n",
    "    acc = history.history['mean_absolute_error']\n",
    "    val_acc = history.history['val_mean_absolute_error']\n",
    "    loss = history.history['loss']\n",
    "    val_loss = history.history['val_loss']\n",
    "    epochs = [i for i in range(1,len(loss)+1)]\n",
    "    print(('mae = %0.2f, loss = %0.2f ')%(max(acc),min(loss)))\n",
    "    print(('val_mae = %0.2f, val_loss = %0.2f ')%(max(acc),min(val_loss)))\n",
    "    \n",
    "    plt.figure()\n",
    "    plt.plot(epochs,acc,'bo',label = 'Training acc')\n",
    "    plt.plot(epochs,val_acc,'b',label = 'Validation acc')\n",
    "    plt.title('Training and validation accuracy')\n",
    "    plt.legend()\n",
    "\n",
    "    plt.figure()\n",
    "    plt.plot(epochs,loss,'bo',label = 'Training loss')\n",
    "    plt.plot(epochs,val_loss,'b',label = 'Validation loss')\n",
    "    plt.title('Training and validation loss')\n",
    "    plt.legend()"
   ]
  },
  {
   "cell_type": "code",
   "execution_count": 150,
   "metadata": {},
   "outputs": [],
   "source": [
    "def get_model_results_acc(history):\n",
    "    from matplotlib import pyplot as plt\n",
    "    acc = history.history['acc']\n",
    "    val_acc = history.history['val_acc']\n",
    "    loss = history.history['loss']\n",
    "    val_loss = history.history['val_loss']\n",
    "    epochs = [i for i in range(1,len(loss)+1)]\n",
    "    print(('mae = %0.2f, loss = %0.2f ')%(max(acc),min(loss)))\n",
    "    print(('val_mae = %0.2f, val_loss = %0.2f ')%(max(acc),min(val_loss)))\n",
    "    \n",
    "    plt.figure()\n",
    "    plt.plot(epochs,acc,'bo',label = 'Training acc')\n",
    "    plt.plot(epochs,val_acc,'b',label = 'Validation acc')\n",
    "    plt.title('Training and validation accuracy')\n",
    "    plt.legend()\n",
    "\n",
    "    plt.figure()\n",
    "    plt.plot(epochs,loss,'bo',label = 'Training loss')\n",
    "    plt.plot(epochs,val_loss,'b',label = 'Validation loss')\n",
    "    plt.title('Training and validation loss')\n",
    "    plt.legend()"
   ]
  },
  {
   "cell_type": "code",
   "execution_count": 4,
   "metadata": {},
   "outputs": [],
   "source": [
    "from pandas import read_csv\n",
    "from keras.models import Model\n",
    "from keras import layers\n",
    "from keras.optimizers import RMSprop,Adam\n",
    "from keras.wrappers.scikit_learn import KerasRegressor\n",
    "\n",
    "from sklearn.model_selection import cross_val_score\n",
    "from sklearn.model_selection import KFold, GridSearchCV\n",
    "from sklearn.preprocessing import StandardScaler\n",
    "from sklearn.pipeline import Pipeline\n",
    "\n",
    "from numpy import random"
   ]
  },
  {
   "cell_type": "code",
   "execution_count": 5,
   "metadata": {},
   "outputs": [],
   "source": [
    "data = read_csv('../datasets/BostonHousing.csv')"
   ]
  },
  {
   "cell_type": "code",
   "execution_count": 6,
   "metadata": {},
   "outputs": [
    {
     "data": {
      "text/html": [
       "<div>\n",
       "<style scoped>\n",
       "    .dataframe tbody tr th:only-of-type {\n",
       "        vertical-align: middle;\n",
       "    }\n",
       "\n",
       "    .dataframe tbody tr th {\n",
       "        vertical-align: top;\n",
       "    }\n",
       "\n",
       "    .dataframe thead th {\n",
       "        text-align: right;\n",
       "    }\n",
       "</style>\n",
       "<table border=\"1\" class=\"dataframe\">\n",
       "  <thead>\n",
       "    <tr style=\"text-align: right;\">\n",
       "      <th></th>\n",
       "      <th>crim</th>\n",
       "      <th>zn</th>\n",
       "      <th>indus</th>\n",
       "      <th>chas</th>\n",
       "      <th>nox</th>\n",
       "      <th>rm</th>\n",
       "      <th>age</th>\n",
       "      <th>dis</th>\n",
       "      <th>rad</th>\n",
       "      <th>tax</th>\n",
       "      <th>ptratio</th>\n",
       "      <th>b</th>\n",
       "      <th>lstat</th>\n",
       "      <th>medv</th>\n",
       "    </tr>\n",
       "  </thead>\n",
       "  <tbody>\n",
       "    <tr>\n",
       "      <th>0</th>\n",
       "      <td>0.00632</td>\n",
       "      <td>18.0</td>\n",
       "      <td>2.31</td>\n",
       "      <td>0</td>\n",
       "      <td>0.538</td>\n",
       "      <td>6.575</td>\n",
       "      <td>65.2</td>\n",
       "      <td>4.0900</td>\n",
       "      <td>1</td>\n",
       "      <td>296</td>\n",
       "      <td>15.3</td>\n",
       "      <td>396.90</td>\n",
       "      <td>4.98</td>\n",
       "      <td>24.0</td>\n",
       "    </tr>\n",
       "    <tr>\n",
       "      <th>1</th>\n",
       "      <td>0.02731</td>\n",
       "      <td>0.0</td>\n",
       "      <td>7.07</td>\n",
       "      <td>0</td>\n",
       "      <td>0.469</td>\n",
       "      <td>6.421</td>\n",
       "      <td>78.9</td>\n",
       "      <td>4.9671</td>\n",
       "      <td>2</td>\n",
       "      <td>242</td>\n",
       "      <td>17.8</td>\n",
       "      <td>396.90</td>\n",
       "      <td>9.14</td>\n",
       "      <td>21.6</td>\n",
       "    </tr>\n",
       "    <tr>\n",
       "      <th>2</th>\n",
       "      <td>0.02729</td>\n",
       "      <td>0.0</td>\n",
       "      <td>7.07</td>\n",
       "      <td>0</td>\n",
       "      <td>0.469</td>\n",
       "      <td>7.185</td>\n",
       "      <td>61.1</td>\n",
       "      <td>4.9671</td>\n",
       "      <td>2</td>\n",
       "      <td>242</td>\n",
       "      <td>17.8</td>\n",
       "      <td>392.83</td>\n",
       "      <td>4.03</td>\n",
       "      <td>34.7</td>\n",
       "    </tr>\n",
       "    <tr>\n",
       "      <th>3</th>\n",
       "      <td>0.03237</td>\n",
       "      <td>0.0</td>\n",
       "      <td>2.18</td>\n",
       "      <td>0</td>\n",
       "      <td>0.458</td>\n",
       "      <td>6.998</td>\n",
       "      <td>45.8</td>\n",
       "      <td>6.0622</td>\n",
       "      <td>3</td>\n",
       "      <td>222</td>\n",
       "      <td>18.7</td>\n",
       "      <td>394.63</td>\n",
       "      <td>2.94</td>\n",
       "      <td>33.4</td>\n",
       "    </tr>\n",
       "    <tr>\n",
       "      <th>4</th>\n",
       "      <td>0.06905</td>\n",
       "      <td>0.0</td>\n",
       "      <td>2.18</td>\n",
       "      <td>0</td>\n",
       "      <td>0.458</td>\n",
       "      <td>7.147</td>\n",
       "      <td>54.2</td>\n",
       "      <td>6.0622</td>\n",
       "      <td>3</td>\n",
       "      <td>222</td>\n",
       "      <td>18.7</td>\n",
       "      <td>396.90</td>\n",
       "      <td>5.33</td>\n",
       "      <td>36.2</td>\n",
       "    </tr>\n",
       "  </tbody>\n",
       "</table>\n",
       "</div>"
      ],
      "text/plain": [
       "      crim    zn  indus  chas    nox     rm   age     dis  rad  tax  ptratio  \\\n",
       "0  0.00632  18.0   2.31     0  0.538  6.575  65.2  4.0900    1  296     15.3   \n",
       "1  0.02731   0.0   7.07     0  0.469  6.421  78.9  4.9671    2  242     17.8   \n",
       "2  0.02729   0.0   7.07     0  0.469  7.185  61.1  4.9671    2  242     17.8   \n",
       "3  0.03237   0.0   2.18     0  0.458  6.998  45.8  6.0622    3  222     18.7   \n",
       "4  0.06905   0.0   2.18     0  0.458  7.147  54.2  6.0622    3  222     18.7   \n",
       "\n",
       "        b  lstat  medv  \n",
       "0  396.90   4.98  24.0  \n",
       "1  396.90   9.14  21.6  \n",
       "2  392.83   4.03  34.7  \n",
       "3  394.63   2.94  33.4  \n",
       "4  396.90   5.33  36.2  "
      ]
     },
     "execution_count": 6,
     "metadata": {},
     "output_type": "execute_result"
    }
   ],
   "source": [
    "data.head()"
   ]
  },
  {
   "cell_type": "markdown",
   "metadata": {},
   "source": [
    "### Attributes\n",
    "\n",
    ">CRIM: per capita crime rate by town.\n",
    ">\n",
    ">ZN: proportion of residential land zoned for lots over 25,000 sq.ft.\n",
    ">\n",
    ">INDUS: proportion of non-retail business acres per town.\n",
    ">\n",
    ">CHAS: Charles River dummy variable (= 1 if tract bounds river; 0 otherwise).\n",
    ">\n",
    ">NOX: nitric oxides concentration (parts per 10 million).\n",
    ">\n",
    ">RM: average number of rooms per dwelling.\n",
    ">\n",
    ">AGE: proportion of owner-occupied units built prior to 1940.\n",
    ">\n",
    ">DIS: weighted distances to ﬁve Boston employment centers.\n",
    ">\n",
    ">RAD: index of accessibility to radial highways.\n",
    ">\n",
    ">TAX: full-value property-tax rate per 10,000 dollars.\n",
    ">\n",
    ">PTRATIO: pupil-teacher ratio by town.\n",
    ">\n",
    ">B: 1000(Bk−0.63)^2 where Bk is the proportion of blacks by town.\n",
    ">\n",
    ">LSTAT: Percent lower status of the population.\n",
    ">\n",
    ">MEDV: Median value of owner-occupied homes in thousand dollars."
   ]
  },
  {
   "cell_type": "markdown",
   "metadata": {},
   "source": [
    "### Model definition using a function"
   ]
  },
  {
   "cell_type": "code",
   "execution_count": 7,
   "metadata": {},
   "outputs": [],
   "source": [
    "def build_nn_model(optimizer=Adam(lr=0.0001), init='normal'):\n",
    "    input_data = layers.Input(shape=(13,))\n",
    "    x = layers.Dense(9,kernel_initializer=init,activation = 'relu')(input_data)\n",
    "    x = layers.Dense(5,kernel_initializer=init,activation = 'relu')(x)\n",
    "    x = layers.Dense(1,kernel_initializer=init)(x)\n",
    "    model_mlp = Model(input_data,x)\n",
    "    model_mlp.compile(optimizer=optimizer, loss = 'mse', metrics = ['mae'])\n",
    "    return(model_mlp)"
   ]
  },
  {
   "cell_type": "markdown",
   "metadata": {},
   "source": [
    "### Running the model using a usual validation split"
   ]
  },
  {
   "cell_type": "code",
   "execution_count": 8,
   "metadata": {},
   "outputs": [],
   "source": [
    "model = build_nn_model()\n",
    "X = data.values[:,:-1]\n",
    "Y = data.values[:,-1]\n",
    "history = model.fit(X,\n",
    "                    Y,\n",
    "                    epochs=100,\n",
    "                    batch_size=1,\n",
    "                    validation_split=0.1,\n",
    "                    verbose=False)"
   ]
  },
  {
   "cell_type": "code",
   "execution_count": 9,
   "metadata": {},
   "outputs": [
    {
     "name": "stdout",
     "output_type": "stream",
     "text": [
      "mae = 20.92, loss = 44.11 \n",
      "val_mae = 20.92, val_loss = 19.57 \n"
     ]
    },
    {
     "data": {
      "image/png": "[encoded data removed]",
      "text/plain": [
       "<Figure size 432x288 with 1 Axes>"
      ]
     },
     "metadata": {},
     "output_type": "display_data"
    },
    {
     "data": {
      "image/png": "[encoded data removed]",
      "text/plain": [
       "<Figure size 432x288 with 1 Axes>"
      ]
     },
     "metadata": {},
     "output_type": "display_data"
    }
   ],
   "source": [
    "get_model_results(history)\n",
    "#batch_size = 1\n",
    "#mae = 9.37, loss = 16.68 \n",
    "#val_mae = 9.37, val_loss = 18.56"
   ]
  },
  {
   "cell_type": "code",
   "execution_count": 10,
   "metadata": {},
   "outputs": [
    {
     "name": "stdout",
     "output_type": "stream",
     "text": [
      "mae = 0.84, loss = 0.13 \n",
      "val_mae = 0.84, val_loss = 0.10 \n"
     ]
    },
    {
     "data": {
      "image/png": "[encoded data removed]",
      "text/plain": [
       "<Figure size 432x288 with 1 Axes>"
      ]
     },
     "metadata": {},
     "output_type": "display_data"
    },
    {
     "data": {
      "image/png": "[encoded data removed]",
      "text/plain": [
       "<Figure size 432x288 with 1 Axes>"
      ]
     },
     "metadata": {},
     "output_type": "display_data"
    }
   ],
   "source": [
    "## Standardarize the data\n",
    "X = data.values[:,:-1]\n",
    "Y = data.values[:,-1]\n",
    "\n",
    "X -= X.mean(axis = 0)\n",
    "X /= X.std(axis = 0)\n",
    "Y -= Y.mean(axis = 0)\n",
    "Y /= Y.std(axis = 0)\n",
    "\n",
    "history = model.fit(X,\n",
    "                    Y,\n",
    "                    epochs=100,\n",
    "                    batch_size=1,\n",
    "                    validation_split=0.1,\n",
    "                    verbose=False)\n",
    "\n",
    "get_model_results(history)"
   ]
  },
  {
   "cell_type": "markdown",
   "metadata": {},
   "source": [
    "### Pipeline definition"
   ]
  },
  {
   "cell_type": "code",
   "execution_count": 68,
   "metadata": {},
   "outputs": [],
   "source": [
    "seed = 1234\n",
    "random.seed(seed)\n",
    "kfold = KFold(n_splits=10, random_state=seed)\n",
    "X = data.values[:,:-1]\n",
    "Y = data.values[:,-1]\n",
    "\n",
    "estimators = []\n",
    "estimators.append(('standarize',StandardScaler()))\n",
    "estimators.append(('mlp', KerasRegressor(build_fn=build_nn_model, epochs=100, batch_size=1, verbose=0)))\n",
    "\n",
    "pipeline = Pipeline(estimators)"
   ]
  },
  {
   "cell_type": "markdown",
   "metadata": {},
   "source": [
    "### Using Cross-Validation"
   ]
  },
  {
   "cell_type": "code",
   "execution_count": 72,
   "metadata": {},
   "outputs": [],
   "source": [
    "results = cross_val_score(pipeline, X, Y, cv=kfold)"
   ]
  },
  {
   "cell_type": "code",
   "execution_count": 73,
   "metadata": {},
   "outputs": [
    {
     "name": "stdout",
     "output_type": "stream",
     "text": [
      "MSE: -47.71 (43.24) MSE\n"
     ]
    }
   ],
   "source": [
    "print(\"MSE: %.2f (%.2f) MSE\" % (results.mean(), results.std()))"
   ]
  },
  {
   "cell_type": "code",
   "execution_count": 74,
   "metadata": {},
   "outputs": [
    {
     "name": "stdout",
     "output_type": "stream",
     "text": [
      "Test accuracy: -33.073\n"
     ]
    }
   ],
   "source": [
    "# Fit the pipeline\n",
    "pipeline.fit(X, Y)\n",
    "\n",
    "# Pipeline test accuracy\n",
    "print('Test accuracy: %.3f' % pipeline.score(X, Y))"
   ]
  },
  {
   "cell_type": "code",
   "execution_count": 78,
   "metadata": {},
   "outputs": [
    {
     "name": "stdout",
     "output_type": "stream",
     "text": [
      "\n",
      "Model hyperparameters:\n",
      " {'epochs': 10, 'batch_size': 5, 'verbose': 0, 'build_fn': <function build_nn_model at 0x7f1760127950>}\n"
     ]
    }
   ],
   "source": [
    "print('\\nModel hyperparameters:\\n', pipeline.steps[1][1].get_params())"
   ]
  },
  {
   "cell_type": "markdown",
   "metadata": {},
   "source": [
    "## Hyperparameter search / Grid Search"
   ]
  },
  {
   "cell_type": "markdown",
   "metadata": {},
   "source": [
    "### GridSearch for a pipeline model"
   ]
  },
  {
   "cell_type": "code",
   "execution_count": 155,
   "metadata": {},
   "outputs": [],
   "source": [
    "def build_nn_model(optimizer='adam', init='normal'):\n",
    "    input_data = layers.Input(shape=(13,))\n",
    "    x = layers.Dense(9,kernel_initializer=init,activation = 'relu')(input_data)\n",
    "    x = layers.Dense(5,kernel_initializer=init,activation = 'relu')(x)\n",
    "    x = layers.Dense(1,kernel_initializer=init)(x)\n",
    "    model_mlp = Model(input_data,x)\n",
    "    model_mlp.compile(optimizer=optimizer, loss = 'mse', metrics = ['mae'])\n",
    "    return(model_mlp)\n",
    "\n",
    "seed = 1234\n",
    "random.seed(seed)\n",
    "X = data.values[:,:-1]\n",
    "Y = data.values[:,-1]\n",
    "estimators = [('standarize',StandardScaler()),\n",
    "              ('mlp', KerasRegressor(build_fn=build_nn_model,verbose=0))]##epochs=10, batch_size=5, \n",
    "pipeline = Pipeline(estimators)\n",
    "param_grid = [{'mlp__optimizer':['adam'], #'rmsprop',\n",
    "               'mlp__init' : ['normal', 'uniform'], # 'glorot_uniform',\n",
    "               'mlp__epochs' : [100],\n",
    "               'mlp__batch_size' : [1, 20]}]"
   ]
  },
  {
   "cell_type": "code",
   "execution_count": 156,
   "metadata": {
    "scrolled": true
   },
   "outputs": [
    {
     "name": "stdout",
     "output_type": "stream",
     "text": [
      "Best accuracy: -21.767\n",
      "\n",
      "Best params:\n",
      " {'mlp__batch_size': 1, 'mlp__epochs': 100, 'mlp__init': 'normal', 'mlp__optimizer': 'adam'}\n"
     ]
    }
   ],
   "source": [
    "# Construct grid search\n",
    "gs = GridSearchCV(estimator=pipeline,\n",
    "                  param_grid=param_grid,\n",
    "                  scoring='neg_mean_squared_error',\n",
    "                  cv=10)\n",
    "\n",
    "# Fit using grid search\n",
    "gs.fit(X, Y)\n",
    "\n",
    "# Best accuracy\n",
    "print('Best accuracy: %.3f' % gs.best_score_)\n",
    "\n",
    "# Best params\n",
    "print('\\nBest params:\\n', gs.best_params_)"
   ]
  },
  {
   "cell_type": "code",
   "execution_count": 159,
   "metadata": {},
   "outputs": [
    {
     "name": "stdout",
     "output_type": "stream",
     "text": [
      "Best: -21.767004 using {'mlp__batch_size': 1, 'mlp__epochs': 100, 'mlp__init': 'normal', 'mlp__optimizer': 'adam'}\n"
     ]
    }
   ],
   "source": [
    "print(\"Best: %f using %s\" % (gs.best_score_, gs.best_params_))\n",
    "#for mean, stdev, param in zip(gs.cv_results_['mean_test_score'],\n",
    "#                              gs.cv_results_['std_test_score'],\n",
    "#                              gs.cv_results_['params']):\n",
    "#    print(\"%f (%f) with: %r\" % (mean, stdev, param))"
   ]
  },
  {
   "cell_type": "markdown",
   "metadata": {},
   "source": [
    "### GridSearch for a stand-alone model - outside of a pipeline -"
   ]
  },
  {
   "cell_type": "code",
   "execution_count": 142,
   "metadata": {},
   "outputs": [],
   "source": [
    "# Model from keras\n",
    "model = KerasRegressor(build_fn=build_nn_model, verbose=0)\n",
    "\n",
    "# grid search epochs, batch size and optimizer\n",
    "optimizers = ['rmsprop', 'adam']\n",
    "init = ['glorot_uniform', 'normal', 'uniform']\n",
    "epochs = [50, 100, 150]\n",
    "batches = [5, 10, 20]\n",
    "param_grid = dict(optimizer=optimizers, epochs=epochs, batch_size=batches, init=init)"
   ]
  },
  {
   "cell_type": "code",
   "execution_count": null,
   "metadata": {},
   "outputs": [],
   "source": [
    "grid = GridSearchCV(estimator=model,\n",
    "                    param_grid=param_grid,\n",
    "                    scoring = 'neg_mean_squared_error',\n",
    "                    cv = 10)\n",
    "grid_result = grid.fit(X, Y)"
   ]
  },
  {
   "cell_type": "code",
   "execution_count": 157,
   "metadata": {
    "scrolled": true
   },
   "outputs": [
    {
     "name": "stdout",
     "output_type": "stream",
     "text": [
      "Best: -21.767004 using {'mlp__batch_size': 1, 'mlp__epochs': 100, 'mlp__init': 'normal', 'mlp__optimizer': 'adam'}\n"
     ]
    }
   ],
   "source": [
    "print(\"Best: %f using %s\" % (gs.best_score_, gs.best_params_))\n",
    "#for mean, stdev, param in zip(gs.cv_results_['mean_test_score'],\n",
    "#                              gs.cv_results_['std_test_score'],\n",
    "#                              gs.cv_results_['params']):\n",
    "#    print(\"%f (%f) with: %r\" % (mean, stdev, param))\n",
    "## Best: -59.377167 using {'batch_size': 20, 'epochs': 100, 'init': 'normal', 'optimizer': 'adam'}"
   ]
  },
  {
   "cell_type": "markdown",
   "metadata": {},
   "source": [
    "### Model Ensemble "
   ]
  },
  {
   "cell_type": "raw",
   "metadata": {},
   "source": [
    "## importing imdb and embedding data\n",
    "from _pickle import load\n",
    "import h5py\n",
    "\n",
    "imdb_data = load(open('imdb_data.pkl','rb'))\n",
    "h5_embedded = h5py.File('embedding_matrix.h5','r')\n",
    "embedding_matrix = h5_embedded['embedding'][:]\n",
    "h5_embedded.close()"
   ]
  },
  {
   "cell_type": "raw",
   "metadata": {},
   "source": [
    "## Preprocessing data\n",
    "from keras.preprocessing.text import Tokenizer\n",
    "from keras.preprocessing.sequence import pad_sequences\n",
    "from numpy import asarray, zeros\n",
    "\n",
    "#### constants\n",
    "maxlen = 500 # cutoff text for a max of 100 words\n",
    "max_words = 10000 # consider only the top 10k words of the database\n",
    "\n",
    "### from words to numbers\n",
    "texts = [d for d in zip(*imdb_data[0])][0]\n",
    "labels = [d for d in zip(*imdb_data[0])][1]\n",
    "\n",
    "tokenizer = Tokenizer(num_words=max_words)\n",
    "tokenizer.fit_on_texts(texts)\n",
    "sequences = tokenizer.texts_to_sequences(texts)\n",
    "\n",
    "word_index = tokenizer.word_index\n",
    "\n",
    "### creating data using sequences\n",
    "data = pad_sequences(sequences, maxlen=maxlen)\n",
    "labels = asarray(labels)\n",
    "\n",
    "### Defining train, validation and test data\n",
    "#### constants\n",
    "training_samples = 10000\n",
    "validation_samples = 1000\n",
    "test_samples = 1000\n",
    "\n",
    "x_train =   data[:training_samples]\n",
    "y_train = labels[:training_samples]\n",
    "x_val   =   data[training_samples:training_samples+validation_samples]\n",
    "y_val   = labels[training_samples:training_samples+validation_samples]\n",
    "x_test  =   data[training_samples+validation_samples:training_samples+validation_samples+test_samples]\n",
    "y_test  = labels[training_samples+validation_samples:training_samples+validation_samples+test_samples]"
   ]
  },
  {
   "cell_type": "code",
   "execution_count": 258,
   "metadata": {},
   "outputs": [],
   "source": [
    "from mnist import MNIST\n",
    "\n",
    "mndata = MNIST('../datasets/mnist/')\n",
    "images, labels = mndata.load_training()\n",
    "images_test, labels_test = mndata.load_testing()"
   ]
  },
  {
   "cell_type": "code",
   "execution_count": 112,
   "metadata": {},
   "outputs": [
    {
     "name": "stdout",
     "output_type": "stream",
     "text": [
      "60000 784 784\n"
     ]
    }
   ],
   "source": [
    "print(len(images),len(images[0]),28*28)\n",
    "imglen = len(images[0])"
   ]
  },
  {
   "cell_type": "code",
   "execution_count": 278,
   "metadata": {},
   "outputs": [],
   "source": [
    "from keras.utils import to_categorical\n",
    "\n",
    "imgdata = asarray(images)\n",
    "imglabel= to_categorical(asarray(labels),10)\n",
    "imgdata = imgdata / imgdata.max()\n",
    "\n",
    "imgdata_test = asarray(images_test)\n",
    "imglabel_test= to_categorical(asarray(labels_test),10)\n",
    "imgdata_test = imgdata_test / imgdata.max()"
   ]
  },
  {
   "cell_type": "code",
   "execution_count": 141,
   "metadata": {},
   "outputs": [],
   "source": [
    "from sklearn.linear_model import LogisticRegression\n",
    "from sklearn.tree import DecisionTreeClassifier\n",
    "from sklearn.neighbors import KNeighborsClassifier\n",
    "from sklearn.svm import SVC\n",
    "from sklearn.ensemble import VotingClassifier"
   ]
  },
  {
   "cell_type": "code",
   "execution_count": 255,
   "metadata": {},
   "outputs": [],
   "source": [
    "## Here I have to start an example with classification instead that a regression.\n",
    "\n",
    "\n",
    "def build_nn_model(optimizer='adam', init='normal'):\n",
    "    input_data = layers.Input(shape=(13,))\n",
    "    x = layers.Dense(9,kernel_initializer=init,activation = 'relu')(input_data)\n",
    "    x = layers.Dense(5,kernel_initializer=init,activation = 'relu')(x)\n",
    "    x = layers.Dense(1,kernel_initializer=init)(x)\n",
    "    model_mlp = Model(input_data,x)\n",
    "    model_mlp.compile(optimizer=optimizer, loss = 'mse', metrics = ['mae'])\n",
    "    return(model_mlp)\n",
    "\n",
    "\n",
    "def buil_lstm_model():\n",
    "    input_data = layers.Input(shape=(maxlen,))\n",
    "    x = layers.Embedding(embedding_matrix.shape[0],\n",
    "                         embedding_matrix.shape[1],\n",
    "                         input_length=maxlen,\n",
    "                         trainable = False,\n",
    "                         weights = [embedding_matrix],\n",
    "                         mask_zero = True)(input_data)\n",
    "    x = layers.Bidirectional(layers.GRU(32, dropout = 0.1, recurrent_dropout=0.5, return_sequences=False, use_bias=True))(x)\n",
    "    x = layers.Dense(1,activation='sigmoid', use_bias=True)(x)\n",
    "    lstm_model = Model(input_data,x)\n",
    "    lstm_model.compile(optimizer='rmsprop', loss = 'binary_crossentropy', metrics = ['acc'])\n",
    "    return(lstm_model)\n",
    "    \n",
    "\n",
    "def buil_conv_model2():\n",
    "    input_data = layers.Input(shape=(784,), name = 'input_1')\n",
    "    x = layers.Reshape((784, -1), input_shape=(784,))(input_data)\n",
    "    x = layers.Conv1D(10,\n",
    "                      kernel_size=(7),\n",
    "                      activation='relu',\n",
    "                      input_shape=(28, 28),\n",
    "                      name='conv_1')(x)\n",
    "    x = layers.MaxPool1D(5)(x)\n",
    "    x = layers.Conv1D(10, 3, activation='relu',name='conv_2')(x)\n",
    "    x = layers.Flatten()(x)\n",
    "    x = layers.Dense(10, activation='softmax', use_bias=True,name='dense_final')(x)\n",
    "    conv_model = Model(input_data, x)\n",
    "    conv_model.compile(optimizer='rmsprop', loss = 'categorical_crossentropy', metrics = ['acc'])\n",
    "    return(conv_model)\n",
    "\n",
    "\n",
    "\n",
    "seed = 1234\n",
    "random.seed(seed)\n",
    "kfold = KFold(n_splits=10, random_state=seed)\n",
    "estimators = []\n",
    "\n",
    "conv = KerasRegressor(build_fn = buil_conv_model, batch_size = 128,epochs=10,verbose=0)\n",
    "#tree = DecisionTreeClassifier(max_depth=4)\n",
    "#knn7 = KNeighborsClassifier(n_neighbors=7)\n",
    "#svm_r = SVC(kernel='rbf', probability=True)\n",
    "#ensemble = VotingClassifier(estimators=[('tree', tree), ('knn7', knn7),('svc',svm_r)], \n",
    "#                            voting='soft', weights=[2,1,2])\n",
    "ensemble = VotingClassifier(estimators=[('conv_nn', conv)])"
   ]
  },
  {
   "cell_type": "raw",
   "metadata": {
    "scrolled": true
   },
   "source": [
    "results = cross_val_score(ensemble, imgdata, imglabel, cv=kfold)\n",
    "print(results.mean())\n",
    "## NotImplementedError: Multilabel and multi-output classification is not supported."
   ]
  },
  {
   "cell_type": "markdown",
   "metadata": {},
   "source": [
    "### Convolutianal network to solve mnist"
   ]
  },
  {
   "cell_type": "code",
   "execution_count": 341,
   "metadata": {
    "scrolled": true
   },
   "outputs": [],
   "source": [
    "def buil_conv_model():\n",
    "    input_data = layers.Input(shape=(784,), name = 'input_1')\n",
    "    x = layers.Reshape((28, 28,-1), input_shape=(784,))(input_data)\n",
    "    x = layers.Conv2D(32,\n",
    "                      kernel_size=(5,5),\n",
    "                      input_shape=(28, 28),\n",
    "                      activation='relu',\n",
    "                      name='conv_1')(x)\n",
    "    x = layers.MaxPool2D(pool_size=(2,2))(x)\n",
    "    x = layers.Dropout(0.5)(x)\n",
    "    x = layers.Flatten()(x)\n",
    "    x = layers.Dense(128, kernel_initializer='normal', activation='relu', use_bias=True, name='dense_1')(x)\n",
    "    x = layers.Dense(10, kernel_initializer='normal', activation='softmax', use_bias=True,name='dense_final')(x)\n",
    "    conv_model = Model(input_data, x)\n",
    "    conv_model.compile(optimizer='rmsprop', loss = 'categorical_crossentropy', metrics = ['acc'])\n",
    "    return(conv_model)\n",
    "\n",
    "\n",
    "def buil_conv_model2():\n",
    "    input_data = layers.Input(shape=(784,), name = 'input_1')\n",
    "    x = layers.Reshape((784, -1), input_shape=(784,))(input_data)\n",
    "    x = layers.Conv1D(10,\n",
    "                      kernel_size=(7),\n",
    "                      activation='relu',\n",
    "                      input_shape=(28, 28),\n",
    "                      name='conv_1')(x)\n",
    "    x = layers.MaxPool1D(5)(x)\n",
    "    x = layers.Conv1D(10, 3, activation='relu',name='conv_2')(x)\n",
    "    x = layers.MaxPool1D(5)(x)\n",
    "    x = layers.Flatten()(x)\n",
    "    x = layers.Dense(10, activation='softmax', use_bias=True,name='dense_final')(x)\n",
    "    conv_model = Model(input_data, x)\n",
    "    conv_model.compile(optimizer='rmsprop', loss = 'categorical_crossentropy', metrics = ['acc'])\n",
    "    return(conv_model)\n",
    "\n",
    "\n",
    "conv_model = buil_conv_model()\n",
    "conv_model2 = buil_conv_model2()"
   ]
  },
  {
   "cell_type": "code",
   "execution_count": 342,
   "metadata": {},
   "outputs": [
    {
     "name": "stdout",
     "output_type": "stream",
     "text": [
      "_________________________________________________________________\n",
      "Layer (type)                 Output Shape              Param #   \n",
      "=================================================================\n",
      "input_1 (InputLayer)         (None, 784)               0         \n",
      "_________________________________________________________________\n",
      "reshape_58 (Reshape)         (None, 28, 28, 1)         0         \n",
      "_________________________________________________________________\n",
      "conv_1 (Conv2D)              (None, 24, 24, 32)        832       \n",
      "_________________________________________________________________\n",
      "max_pooling2d_21 (MaxPooling (None, 12, 12, 32)        0         \n",
      "_________________________________________________________________\n",
      "dropout_14 (Dropout)         (None, 12, 12, 32)        0         \n",
      "_________________________________________________________________\n",
      "flatten_36 (Flatten)         (None, 4608)              0         \n",
      "_________________________________________________________________\n",
      "dense_1 (Dense)              (None, 128)               589952    \n",
      "_________________________________________________________________\n",
      "dense_final (Dense)          (None, 10)                1290      \n",
      "=================================================================\n",
      "Total params: 592,074\n",
      "Trainable params: 592,074\n",
      "Non-trainable params: 0\n",
      "_________________________________________________________________\n"
     ]
    }
   ],
   "source": [
    "conv_model.summary()"
   ]
  },
  {
   "cell_type": "code",
   "execution_count": 343,
   "metadata": {},
   "outputs": [
    {
     "name": "stdout",
     "output_type": "stream",
     "text": [
      "_________________________________________________________________\n",
      "Layer (type)                 Output Shape              Param #   \n",
      "=================================================================\n",
      "input_1 (InputLayer)         (None, 784)               0         \n",
      "_________________________________________________________________\n",
      "reshape_59 (Reshape)         (None, 784, 1)            0         \n",
      "_________________________________________________________________\n",
      "conv_1 (Conv1D)              (None, 778, 10)           80        \n",
      "_________________________________________________________________\n",
      "max_pooling1d_46 (MaxPooling (None, 155, 10)           0         \n",
      "_________________________________________________________________\n",
      "conv_2 (Conv1D)              (None, 153, 10)           310       \n",
      "_________________________________________________________________\n",
      "max_pooling1d_47 (MaxPooling (None, 30, 10)            0         \n",
      "_________________________________________________________________\n",
      "flatten_37 (Flatten)         (None, 300)               0         \n",
      "_________________________________________________________________\n",
      "dense_final (Dense)          (None, 10)                3010      \n",
      "=================================================================\n",
      "Total params: 3,400\n",
      "Trainable params: 3,400\n",
      "Non-trainable params: 0\n",
      "_________________________________________________________________\n"
     ]
    }
   ],
   "source": [
    "conv_model2.summary()"
   ]
  },
  {
   "cell_type": "code",
   "execution_count": 344,
   "metadata": {},
   "outputs": [],
   "source": [
    "history = conv_model.fit(imgdata,\n",
    "                         imglabel,\n",
    "                         epochs=10,\n",
    "                         batch_size=128,\n",
    "                         validation_data=(imgdata_test,imglabel_test),\n",
    "                         verbose=False)"
   ]
  },
  {
   "cell_type": "code",
   "execution_count": 331,
   "metadata": {},
   "outputs": [
    {
     "name": "stdout",
     "output_type": "stream",
     "text": [
      "mae = 1.00, loss = 0.01 \n",
      "val_mae = 1.00, val_loss = 0.27 \n"
     ]
    },
    {
     "data": {
      "image/png": "[encoded data removed]",
      "text/plain": [
       "<Figure size 432x288 with 1 Axes>"
      ]
     },
     "metadata": {},
     "output_type": "display_data"
    },
    {
     "data": {
      "image/png": "[encoded data removed]",
      "text/plain": [
       "<Figure size 432x288 with 1 Axes>"
      ]
     },
     "metadata": {},
     "output_type": "display_data"
    }
   ],
   "source": [
    "get_model_results_acc(history)"
   ]
  },
  {
   "cell_type": "code",
   "execution_count": 84,
   "metadata": {},
   "outputs": [],
   "source": [
    "# results #[0.5  , 0.498, 0.488, 0.506, 0.515, 0.533, 0.53 , 0.514, 0.507, 0.514]"
   ]
  },
  {
   "cell_type": "code",
   "execution_count": 339,
   "metadata": {},
   "outputs": [],
   "source": [
    "history2 = conv_model2.fit(imgdata,\n",
    "                           imglabel,\n",
    "                           epochs=10,\n",
    "                           batch_size=128,\n",
    "                           validation_data=(imgdata_test,imglabel_test),\n",
    "                           verbose=False)"
   ]
  },
  {
   "cell_type": "code",
   "execution_count": 345,
   "metadata": {},
   "outputs": [
    {
     "name": "stdout",
     "output_type": "stream",
     "text": [
      "mae = 0.94, loss = 0.19 \n",
      "val_mae = 0.94, val_loss = 1.47 \n"
     ]
    },
    {
     "data": {
      "image/png": "[encoded data removed]",
      "text/plain": [
       "<Figure size 432x288 with 1 Axes>"
      ]
     },
     "metadata": {},
     "output_type": "display_data"
    },
    {
     "data": {
      "image/png": "[encoded data removed]",
      "text/plain": [
       "<Figure size 432x288 with 1 Axes>"
      ]
     },
     "metadata": {},
     "output_type": "display_data"
    }
   ],
   "source": [
    "get_model_results_acc(history2)"
   ]
  },
  {
   "cell_type": "code",
   "execution_count": null,
   "metadata": {},
   "outputs": [],
   "source": []
  }
 ],
 "metadata": {
  "kernelspec": {
   "display_name": "Python 3",
   "language": "python",
   "name": "python3"
  },
  "language_info": {
   "codemirror_mode": {
    "name": "ipython",
    "version": 3
   },
   "file_extension": ".py",
   "mimetype": "text/x-python",
   "name": "python",
   "nbconvert_exporter": "python",
   "pygments_lexer": "ipython3",
   "version": "3.6.1"
  }
 },
 "nbformat": 4,
 "nbformat_minor": 2
}
