{
 "cells": [
  {
   "cell_type": "code",
   "execution_count": 1,
   "metadata": {},
   "outputs": [],
   "source": [
    "%matplotlib inline"
   ]
  },
  {
   "cell_type": "code",
   "execution_count": 2,
   "metadata": {},
   "outputs": [],
   "source": [
    "def get_model_results(history):\n",
    "    from matplotlib import pyplot as plt\n",
    "    acc = history.history['mean_absolute_error']\n",
    "    val_acc = history.history['val_mean_absolute_error']\n",
    "    loss = history.history['loss']\n",
    "    val_loss = history.history['val_loss']\n",
    "    epochs = [i for i in range(1,len(loss)+1)]\n",
    "    print(('mae = %0.2f, loss = %0.2f ')%(max(acc),min(loss)))\n",
    "    print(('val_mae = %0.2f, val_loss = %0.2f ')%(max(acc),min(val_loss)))\n",
    "    \n",
    "    plt.figure()\n",
    "    plt.plot(epochs,acc,'bo',label = 'Training acc')\n",
    "    plt.plot(epochs,val_acc,'b',label = 'Validation acc')\n",
    "    plt.title('Training and validation accuracy')\n",
    "    plt.legend()\n",
    "\n",
    "    plt.figure()\n",
    "    plt.plot(epochs,loss,'bo',label = 'Training loss')\n",
    "    plt.plot(epochs,val_loss,'b',label = 'Validation loss')\n",
    "    plt.title('Training and validation loss')\n",
    "    plt.legend()"
   ]
  },
  {
   "cell_type": "code",
   "execution_count": 3,
   "metadata": {},
   "outputs": [
    {
     "name": "stderr",
     "output_type": "stream",
     "text": [
      "/usr/lib64/python3.6/site-packages/h5py/__init__.py:36: FutureWarning: Conversion of the second argument of issubdtype from `float` to `np.floating` is deprecated. In future, it will be treated as `np.float64 == np.dtype(float).type`.\n",
      "  from ._conv import register_converters as _register_converters\n",
      "Using TensorFlow backend.\n"
     ]
    }
   ],
   "source": [
    "from pandas import read_csv\n",
    "from keras.models import Model\n",
    "from keras import layers\n",
    "from keras.optimizers import RMSprop,Adam\n",
    "from keras.wrappers.scikit_learn import KerasRegressor\n",
    "\n",
    "from sklearn.model_selection import cross_val_score\n",
    "from sklearn.model_selection import KFold, GridSearchCV\n",
    "from sklearn.preprocessing import StandardScaler\n",
    "from sklearn.pipeline import Pipeline\n",
    "\n",
    "from numpy import random"
   ]
  },
  {
   "cell_type": "code",
   "execution_count": 4,
   "metadata": {},
   "outputs": [],
   "source": [
    "data = read_csv('../datasets/BostonHousing.csv')"
   ]
  },
  {
   "cell_type": "code",
   "execution_count": 5,
   "metadata": {},
   "outputs": [
    {
     "data": {
      "text/html": [
       "<div>\n",
       "<style scoped>\n",
       "    .dataframe tbody tr th:only-of-type {\n",
       "        vertical-align: middle;\n",
       "    }\n",
       "\n",
       "    .dataframe tbody tr th {\n",
       "        vertical-align: top;\n",
       "    }\n",
       "\n",
       "    .dataframe thead th {\n",
       "        text-align: right;\n",
       "    }\n",
       "</style>\n",
       "<table border=\"1\" class=\"dataframe\">\n",
       "  <thead>\n",
       "    <tr style=\"text-align: right;\">\n",
       "      <th></th>\n",
       "      <th>crim</th>\n",
       "      <th>zn</th>\n",
       "      <th>indus</th>\n",
       "      <th>chas</th>\n",
       "      <th>nox</th>\n",
       "      <th>rm</th>\n",
       "      <th>age</th>\n",
       "      <th>dis</th>\n",
       "      <th>rad</th>\n",
       "      <th>tax</th>\n",
       "      <th>ptratio</th>\n",
       "      <th>b</th>\n",
       "      <th>lstat</th>\n",
       "      <th>medv</th>\n",
       "    </tr>\n",
       "  </thead>\n",
       "  <tbody>\n",
       "    <tr>\n",
       "      <th>0</th>\n",
       "      <td>0.00632</td>\n",
       "      <td>18.0</td>\n",
       "      <td>2.31</td>\n",
       "      <td>0</td>\n",
       "      <td>0.538</td>\n",
       "      <td>6.575</td>\n",
       "      <td>65.2</td>\n",
       "      <td>4.0900</td>\n",
       "      <td>1</td>\n",
       "      <td>296</td>\n",
       "      <td>15.3</td>\n",
       "      <td>396.90</td>\n",
       "      <td>4.98</td>\n",
       "      <td>24.0</td>\n",
       "    </tr>\n",
       "    <tr>\n",
       "      <th>1</th>\n",
       "      <td>0.02731</td>\n",
       "      <td>0.0</td>\n",
       "      <td>7.07</td>\n",
       "      <td>0</td>\n",
       "      <td>0.469</td>\n",
       "      <td>6.421</td>\n",
       "      <td>78.9</td>\n",
       "      <td>4.9671</td>\n",
       "      <td>2</td>\n",
       "      <td>242</td>\n",
       "      <td>17.8</td>\n",
       "      <td>396.90</td>\n",
       "      <td>9.14</td>\n",
       "      <td>21.6</td>\n",
       "    </tr>\n",
       "    <tr>\n",
       "      <th>2</th>\n",
       "      <td>0.02729</td>\n",
       "      <td>0.0</td>\n",
       "      <td>7.07</td>\n",
       "      <td>0</td>\n",
       "      <td>0.469</td>\n",
       "      <td>7.185</td>\n",
       "      <td>61.1</td>\n",
       "      <td>4.9671</td>\n",
       "      <td>2</td>\n",
       "      <td>242</td>\n",
       "      <td>17.8</td>\n",
       "      <td>392.83</td>\n",
       "      <td>4.03</td>\n",
       "      <td>34.7</td>\n",
       "    </tr>\n",
       "    <tr>\n",
       "      <th>3</th>\n",
       "      <td>0.03237</td>\n",
       "      <td>0.0</td>\n",
       "      <td>2.18</td>\n",
       "      <td>0</td>\n",
       "      <td>0.458</td>\n",
       "      <td>6.998</td>\n",
       "      <td>45.8</td>\n",
       "      <td>6.0622</td>\n",
       "      <td>3</td>\n",
       "      <td>222</td>\n",
       "      <td>18.7</td>\n",
       "      <td>394.63</td>\n",
       "      <td>2.94</td>\n",
       "      <td>33.4</td>\n",
       "    </tr>\n",
       "    <tr>\n",
       "      <th>4</th>\n",
       "      <td>0.06905</td>\n",
       "      <td>0.0</td>\n",
       "      <td>2.18</td>\n",
       "      <td>0</td>\n",
       "      <td>0.458</td>\n",
       "      <td>7.147</td>\n",
       "      <td>54.2</td>\n",
       "      <td>6.0622</td>\n",
       "      <td>3</td>\n",
       "      <td>222</td>\n",
       "      <td>18.7</td>\n",
       "      <td>396.90</td>\n",
       "      <td>5.33</td>\n",
       "      <td>36.2</td>\n",
       "    </tr>\n",
       "  </tbody>\n",
       "</table>\n",
       "</div>"
      ],
      "text/plain": [
       "      crim    zn  indus  chas    nox     rm   age     dis  rad  tax  ptratio  \\\n",
       "0  0.00632  18.0   2.31     0  0.538  6.575  65.2  4.0900    1  296     15.3   \n",
       "1  0.02731   0.0   7.07     0  0.469  6.421  78.9  4.9671    2  242     17.8   \n",
       "2  0.02729   0.0   7.07     0  0.469  7.185  61.1  4.9671    2  242     17.8   \n",
       "3  0.03237   0.0   2.18     0  0.458  6.998  45.8  6.0622    3  222     18.7   \n",
       "4  0.06905   0.0   2.18     0  0.458  7.147  54.2  6.0622    3  222     18.7   \n",
       "\n",
       "        b  lstat  medv  \n",
       "0  396.90   4.98  24.0  \n",
       "1  396.90   9.14  21.6  \n",
       "2  392.83   4.03  34.7  \n",
       "3  394.63   2.94  33.4  \n",
       "4  396.90   5.33  36.2  "
      ]
     },
     "execution_count": 5,
     "metadata": {},
     "output_type": "execute_result"
    }
   ],
   "source": [
    "data.head()"
   ]
  },
  {
   "cell_type": "markdown",
   "metadata": {},
   "source": [
    "### Attributes\n",
    "\n",
    ">CRIM: per capita crime rate by town.\n",
    ">\n",
    ">ZN: proportion of residential land zoned for lots over 25,000 sq.ft.\n",
    ">\n",
    ">INDUS: proportion of non-retail business acres per town.\n",
    ">\n",
    ">CHAS: Charles River dummy variable (= 1 if tract bounds river; 0 otherwise).\n",
    ">\n",
    ">NOX: nitric oxides concentration (parts per 10 million).\n",
    ">\n",
    ">RM: average number of rooms per dwelling.\n",
    ">\n",
    ">AGE: proportion of owner-occupied units built prior to 1940.\n",
    ">\n",
    ">DIS: weighted distances to ﬁve Boston employment centers.\n",
    ">\n",
    ">RAD: index of accessibility to radial highways.\n",
    ">\n",
    ">TAX: full-value property-tax rate per 10,000 dollars.\n",
    ">\n",
    ">PTRATIO: pupil-teacher ratio by town.\n",
    ">\n",
    ">B: 1000(Bk−0.63)^2 where Bk is the proportion of blacks by town.\n",
    ">\n",
    ">LSTAT: Percent lower status of the population.\n",
    ">\n",
    ">MEDV: Median value of owner-occupied homes in thousand dollars."
   ]
  },
  {
   "cell_type": "markdown",
   "metadata": {},
   "source": [
    "### Model definition using a function"
   ]
  },
  {
   "cell_type": "code",
   "execution_count": 88,
   "metadata": {},
   "outputs": [],
   "source": [
    "def build_nn_model(optimizer=Adam(lr=0.0001), init='normal'):\n",
    "    input_data = layers.Input(shape=(13,))\n",
    "    x = layers.Dense(9,kernel_initializer=init,activation = 'relu')(input_data)\n",
    "    x = layers.Dense(5,kernel_initializer=init,activation = 'relu')(x)\n",
    "    x = layers.Dense(1,kernel_initializer=init)(x)\n",
    "    model_mlp = Model(input_data,x)\n",
    "    model_mlp.compile(optimizer=optimizer, loss = 'mse', metrics = ['mae'])\n",
    "    return(model_mlp)"
   ]
  },
  {
   "cell_type": "markdown",
   "metadata": {},
   "source": [
    "### Running the model using a usual validation split"
   ]
  },
  {
   "cell_type": "code",
   "execution_count": 116,
   "metadata": {},
   "outputs": [],
   "source": [
    "model = build_nn_model()\n",
    "X = data.values[:,:-1]\n",
    "Y = data.values[:,-1]\n",
    "history = model.fit(X,\n",
    "                    Y,\n",
    "                    epochs=100,\n",
    "                    batch_size=1,\n",
    "                    validation_split=0.1,\n",
    "                    verbose=False)"
   ]
  },
  {
   "cell_type": "code",
   "execution_count": 118,
   "metadata": {},
   "outputs": [
    {
     "name": "stdout",
     "output_type": "stream",
     "text": [
      "mae = 11.04, loss = 18.02 \n",
      "val_mae = 11.04, val_loss = 17.01 \n"
     ]
    },
    {
     "data": {
      "image/png": "[encoded data removed]",
      "text/plain": [
       "<Figure size 432x288 with 1 Axes>"
      ]
     },
     "metadata": {},
     "output_type": "display_data"
    },
    {
     "data": {
      "image/png": "[encoded data removed]",
      "text/plain": [
       "<Figure size 432x288 with 1 Axes>"
      ]
     },
     "metadata": {},
     "output_type": "display_data"
    }
   ],
   "source": [
    "get_model_results(history)\n",
    "#batch_size = 1\n",
    "#mae = 9.37, loss = 16.68 \n",
    "#val_mae = 9.37, val_loss = 18.56"
   ]
  },
  {
   "cell_type": "code",
   "execution_count": 163,
   "metadata": {},
   "outputs": [
    {
     "name": "stdout",
     "output_type": "stream",
     "text": [
      "mae = 0.62, loss = 0.06 \n",
      "val_mae = 0.62, val_loss = 0.10 \n"
     ]
    },
    {
     "data": {
      "image/png": "[encoded data removed]",
      "text/plain": [
       "<Figure size 432x288 with 1 Axes>"
      ]
     },
     "metadata": {},
     "output_type": "display_data"
    },
    {
     "data": {
      "image/png": "[encoded data removed]",
      "text/plain": [
       "<Figure size 432x288 with 1 Axes>"
      ]
     },
     "metadata": {},
     "output_type": "display_data"
    }
   ],
   "source": [
    "## Standardarize the data\n",
    "X = data.values[:,:-1]\n",
    "Y = data.values[:,-1]\n",
    "\n",
    "X -= X.mean(axis = 0)\n",
    "X /= X.std(axis = 0)\n",
    "Y -= Y.mean(axis = 0)\n",
    "Y /= Y.std(axis = 0)\n",
    "\n",
    "history = model.fit(X,\n",
    "                    Y,\n",
    "                    epochs=100,\n",
    "                    batch_size=1,\n",
    "                    validation_split=0.1,\n",
    "                    verbose=False)\n",
    "\n",
    "get_model_results(history)"
   ]
  },
  {
   "cell_type": "markdown",
   "metadata": {},
   "source": [
    "### Pipeline definition"
   ]
  },
  {
   "cell_type": "code",
   "execution_count": 68,
   "metadata": {},
   "outputs": [],
   "source": [
    "seed = 1234\n",
    "random.seed(seed)\n",
    "kfold = KFold(n_splits=10, random_state=seed)\n",
    "X = data.values[:,:-1]\n",
    "Y = data.values[:,-1]\n",
    "\n",
    "estimators = []\n",
    "estimators.append(('standarize',StandardScaler()))\n",
    "estimators.append(('mlp', KerasRegressor(build_fn=build_nn_model, epochs=100, batch_size=1, verbose=0)))\n",
    "\n",
    "pipeline = Pipeline(estimators)"
   ]
  },
  {
   "cell_type": "markdown",
   "metadata": {},
   "source": [
    "### Using Cross-Validation"
   ]
  },
  {
   "cell_type": "code",
   "execution_count": 72,
   "metadata": {},
   "outputs": [],
   "source": [
    "results = cross_val_score(pipeline, X, Y, cv=kfold)"
   ]
  },
  {
   "cell_type": "code",
   "execution_count": 73,
   "metadata": {},
   "outputs": [
    {
     "name": "stdout",
     "output_type": "stream",
     "text": [
      "MSE: -47.71 (43.24) MSE\n"
     ]
    }
   ],
   "source": [
    "print(\"MSE: %.2f (%.2f) MSE\" % (results.mean(), results.std()))"
   ]
  },
  {
   "cell_type": "code",
   "execution_count": 74,
   "metadata": {},
   "outputs": [
    {
     "name": "stdout",
     "output_type": "stream",
     "text": [
      "Test accuracy: -33.073\n"
     ]
    }
   ],
   "source": [
    "# Fit the pipeline\n",
    "pipeline.fit(X, Y)\n",
    "\n",
    "# Pipeline test accuracy\n",
    "print('Test accuracy: %.3f' % pipeline.score(X, Y))"
   ]
  },
  {
   "cell_type": "code",
   "execution_count": 78,
   "metadata": {},
   "outputs": [
    {
     "name": "stdout",
     "output_type": "stream",
     "text": [
      "\n",
      "Model hyperparameters:\n",
      " {'epochs': 10, 'batch_size': 5, 'verbose': 0, 'build_fn': <function build_nn_model at 0x7f1760127950>}\n"
     ]
    }
   ],
   "source": [
    "print('\\nModel hyperparameters:\\n', pipeline.steps[1][1].get_params())"
   ]
  },
  {
   "cell_type": "markdown",
   "metadata": {},
   "source": [
    "## Hyperparameter search / Grid Search"
   ]
  },
  {
   "cell_type": "markdown",
   "metadata": {},
   "source": [
    "### GridSearch for a pipeline model"
   ]
  },
  {
   "cell_type": "code",
   "execution_count": 155,
   "metadata": {},
   "outputs": [],
   "source": [
    "def build_nn_model(optimizer='adam', init='normal'):\n",
    "    input_data = layers.Input(shape=(13,))\n",
    "    x = layers.Dense(9,kernel_initializer=init,activation = 'relu')(input_data)\n",
    "    x = layers.Dense(5,kernel_initializer=init,activation = 'relu')(x)\n",
    "    x = layers.Dense(1,kernel_initializer=init)(x)\n",
    "    model_mlp = Model(input_data,x)\n",
    "    model_mlp.compile(optimizer=optimizer, loss = 'mse', metrics = ['mae'])\n",
    "    return(model_mlp)\n",
    "\n",
    "seed = 1234\n",
    "random.seed(seed)\n",
    "X = data.values[:,:-1]\n",
    "Y = data.values[:,-1]\n",
    "estimators = [('standarize',StandardScaler()),\n",
    "              ('mlp', KerasRegressor(build_fn=build_nn_model,verbose=0))]##epochs=10, batch_size=5, \n",
    "pipeline = Pipeline(estimators)\n",
    "param_grid = [{'mlp__optimizer':['adam'], #'rmsprop',\n",
    "               'mlp__init' : ['normal', 'uniform'], # 'glorot_uniform',\n",
    "               'mlp__epochs' : [100],\n",
    "               'mlp__batch_size' : [1, 20]}]"
   ]
  },
  {
   "cell_type": "code",
   "execution_count": 156,
   "metadata": {
    "scrolled": true
   },
   "outputs": [
    {
     "name": "stdout",
     "output_type": "stream",
     "text": [
      "Best accuracy: -21.767\n",
      "\n",
      "Best params:\n",
      " {'mlp__batch_size': 1, 'mlp__epochs': 100, 'mlp__init': 'normal', 'mlp__optimizer': 'adam'}\n"
     ]
    }
   ],
   "source": [
    "# Construct grid search\n",
    "gs = GridSearchCV(estimator=pipeline,\n",
    "                  param_grid=param_grid,\n",
    "                  scoring='neg_mean_squared_error',\n",
    "                  cv=10)\n",
    "\n",
    "# Fit using grid search\n",
    "gs.fit(X, Y)\n",
    "\n",
    "# Best accuracy\n",
    "print('Best accuracy: %.3f' % gs.best_score_)\n",
    "\n",
    "# Best params\n",
    "print('\\nBest params:\\n', gs.best_params_)"
   ]
  },
  {
   "cell_type": "code",
   "execution_count": 159,
   "metadata": {},
   "outputs": [
    {
     "name": "stdout",
     "output_type": "stream",
     "text": [
      "Best: -21.767004 using {'mlp__batch_size': 1, 'mlp__epochs': 100, 'mlp__init': 'normal', 'mlp__optimizer': 'adam'}\n"
     ]
    }
   ],
   "source": [
    "print(\"Best: %f using %s\" % (gs.best_score_, gs.best_params_))\n",
    "#for mean, stdev, param in zip(gs.cv_results_['mean_test_score'],\n",
    "#                              gs.cv_results_['std_test_score'],\n",
    "#                              gs.cv_results_['params']):\n",
    "#    print(\"%f (%f) with: %r\" % (mean, stdev, param))"
   ]
  },
  {
   "cell_type": "markdown",
   "metadata": {},
   "source": [
    "### GridSearch for a stand-alone model - outside of a pipeline -"
   ]
  },
  {
   "cell_type": "code",
   "execution_count": 142,
   "metadata": {},
   "outputs": [],
   "source": [
    "# Model from keras\n",
    "model = KerasRegressor(build_fn=build_nn_model, verbose=0)\n",
    "\n",
    "# grid search epochs, batch size and optimizer\n",
    "optimizers = ['rmsprop', 'adam']\n",
    "init = ['glorot_uniform', 'normal', 'uniform']\n",
    "epochs = [50, 100, 150]\n",
    "batches = [5, 10, 20]\n",
    "param_grid = dict(optimizer=optimizers, epochs=epochs, batch_size=batches, init=init)"
   ]
  },
  {
   "cell_type": "code",
   "execution_count": null,
   "metadata": {},
   "outputs": [],
   "source": [
    "grid = GridSearchCV(estimator=model,\n",
    "                    param_grid=param_grid,\n",
    "                    scoring = 'neg_mean_squared_error',\n",
    "                    cv = 10)\n",
    "grid_result = grid.fit(X, Y)"
   ]
  },
  {
   "cell_type": "code",
   "execution_count": 157,
   "metadata": {
    "scrolled": true
   },
   "outputs": [
    {
     "name": "stdout",
     "output_type": "stream",
     "text": [
      "Best: -21.767004 using {'mlp__batch_size': 1, 'mlp__epochs': 100, 'mlp__init': 'normal', 'mlp__optimizer': 'adam'}\n"
     ]
    }
   ],
   "source": [
    "print(\"Best: %f using %s\" % (gs.best_score_, gs.best_params_))\n",
    "#for mean, stdev, param in zip(gs.cv_results_['mean_test_score'],\n",
    "#                              gs.cv_results_['std_test_score'],\n",
    "#                              gs.cv_results_['params']):\n",
    "#    print(\"%f (%f) with: %r\" % (mean, stdev, param))\n",
    "## Best: -59.377167 using {'batch_size': 20, 'epochs': 100, 'init': 'normal', 'optimizer': 'adam'}"
   ]
  },
  {
   "cell_type": "markdown",
   "metadata": {},
   "source": [
    "### Model Ensemble "
   ]
  },
  {
   "cell_type": "code",
   "execution_count": 34,
   "metadata": {},
   "outputs": [],
   "source": [
    "from sklearn.linear_model import LinearRegression\n",
    "from sklearn.tree import DecisionTreeClassifier\n",
    "from sklearn.svm import SVC\n",
    "from sklearn.ensemble import RandomForestRegressor"
   ]
  },
  {
   "cell_type": "code",
   "execution_count": 35,
   "metadata": {},
   "outputs": [],
   "source": [
    "## Here I have to start an example with classification instead that a regression.\n",
    "\n",
    "def build_nn_model(optimizer='adam', init='normal'):\n",
    "    input_data = layers.Input(shape=(13,))\n",
    "    x = layers.Dense(9,kernel_initializer=init,activation = 'relu')(input_data)\n",
    "    x = layers.Dense(5,kernel_initializer=init,activation = 'relu')(x)\n",
    "    x = layers.Dense(1,kernel_initializer=init)(x)\n",
    "    model_mlp = Model(input_data,x)\n",
    "    model_mlp.compile(optimizer=optimizer, loss = 'mse', metrics = ['mae'])\n",
    "    return(model_mlp)\n",
    "\n",
    "X = data.values[:,:-1]\n",
    "Y = data.values[:,-1]\n",
    "\n",
    "X -= X.mean(axis = 0)\n",
    "X /= X.std(axis = 0)\n",
    "Y -= Y.mean(axis = 0)\n",
    "Y /= Y.std(axis = 0)\n",
    "\n",
    "seed = 1234\n",
    "random.seed(seed)\n",
    "kfold = KFold(n_splits=10, random_state=seed)\n",
    "estimators = []\n",
    "\n",
    "#estimators.append(('mlp',KerasRegressor(build_fn = build_nn_model,optimizer= 'adam', init='normal', batch_size = 1,epochs=100,verbose=0)))\n",
    "estimators.append(('logistic', LinearRegression()))\n",
    "#estimators.append(('cart', DecisionTreeClassifier()))\n",
    "#estimators.append(('svm', SVC()))"
   ]
  },
  {
   "cell_type": "code",
   "execution_count": 37,
   "metadata": {
    "scrolled": true
   },
   "outputs": [
    {
     "ename": "SyntaxError",
     "evalue": "positional argument follows keyword argument (<ipython-input-37-129773bb445f>, line 1)",
     "output_type": "error",
     "traceback": [
      "\u001b[0;36m  File \u001b[0;32m\"<ipython-input-37-129773bb445f>\"\u001b[0;36m, line \u001b[0;32m1\u001b[0m\n\u001b[0;31m    ensemble = RandomForestRegressor(n_estimators=1,estimators)\u001b[0m\n\u001b[0m                                                   ^\u001b[0m\n\u001b[0;31mSyntaxError\u001b[0m\u001b[0;31m:\u001b[0m positional argument follows keyword argument\n"
     ]
    }
   ],
   "source": [
    "ensemble = RandomForestRegressor(n_estimators=1,estimators)\n",
    "results = cross_val_score(ensemble, X, Y, cv=kfold)\n",
    "print(results.mean())"
   ]
  },
  {
   "cell_type": "code",
   "execution_count": null,
   "metadata": {},
   "outputs": [],
   "source": []
  }
 ],
 "metadata": {
  "kernelspec": {
   "display_name": "Python 3",
   "language": "python",
   "name": "python3"
  },
  "language_info": {
   "codemirror_mode": {
    "name": "ipython",
    "version": 3
   },
   "file_extension": ".py",
   "mimetype": "text/x-python",
   "name": "python",
   "nbconvert_exporter": "python",
   "pygments_lexer": "ipython3",
   "version": "3.6.1"
  }
 },
 "nbformat": 4,
 "nbformat_minor": 2
}
